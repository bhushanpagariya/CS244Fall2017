{
 "cells": [
  {
   "cell_type": "code",
   "execution_count": 433,
   "metadata": {},
   "outputs": [],
   "source": [
    "import numpy as np\n",
    "import math\n",
    "\n",
    "# Calculating mean crossing rate\n",
    "def mean_crossing_rate(arr):\n",
    "    arr = arr - np.mean(arr)\n",
    "    count = 0\n",
    "    for i in range(1, len(arr)):\n",
    "        if arr[i-1]*arr[i] < 0:\n",
    "            count+=1\n",
    "    return count\n",
    "\n",
    "# Extracting mean, median, std, mean crossing rate and correlation between X,Y and Z\n",
    "def extract_features(data_xyz):\n",
    "    if data_xyz.shape[0]==0 or data_xyz.shape[1]!=3:\n",
    "        return None\n",
    "    features = list()\n",
    "    for col in range(data_xyz.shape[1]):\n",
    "        features.append(np.mean(data_xyz[:,col]))\n",
    "        features.append(np.median(data_xyz[:,col]))\n",
    "        features.append(np.std(data_xyz[:,col]))\n",
    "        features.append(mean_crossing_rate(data_xyz[:,col]))\n",
    "    features.append(np.correlate(data_xyz[:,0], data_xyz[:,1]))\n",
    "    features.append(np.correlate(data_xyz[:,0], data_xyz[:,2]))\n",
    "    features.append(np.correlate(data_xyz[:,1], data_xyz[:,2]))\n",
    "    return features\n"
   ]
  },
  {
   "cell_type": "code",
   "execution_count": 434,
   "metadata": {},
   "outputs": [
    {
     "data": {
      "image/png": "[encoded data removed]",
      "text/plain": [
       "<matplotlib.figure.Figure at 0x1a14072a90>"
      ]
     },
     "metadata": {},
     "output_type": "display_data"
    }
   ],
   "source": [
    "data = np.genfromtxt(\"sample.csv\",delimiter=\",\", skip_header=1, dtype=float)\n",
    "window_size = 330\n",
    "\n",
    "X = np.empty((int(math.ceil(float(data.shape[0])/window_size))*5, 15))\n",
    "Y = list()\n",
    "iteration = 0\n",
    "\n",
    "for cls in range(1, 6):\n",
    "    i = 0\n",
    "    while i < data.shape[0]:\n",
    "        X[iteration] = extract_features(data[i:i+window_size,4*(cls-1)+1:4*(cls-1)+4])\n",
    "        Y.append(cls)\n",
    "        i += window_size\n",
    "        iteration+=1\n",
    "        \n",
    "import matplotlib.pyplot as plt\n",
    "plt.scatter(X[:14,1], X[:14,2], color='g')\n",
    "plt.scatter(X[14:28,1], X[14:28,2], color='r')\n",
    "plt.scatter(X[28:42,1], X[28:42,2], color='b')\n",
    "plt.scatter(X[42:56,1], X[42:56,2], color='black')\n",
    "plt.scatter(X[56:70,1], X[56:70,2], color='orange')\n",
    "plt.xlabel(\"Median for X's\")\n",
    "plt.ylabel(\"STD for X's\")\n",
    "plt.show()"
   ]
  },
  {
   "cell_type": "code",
   "execution_count": 435,
   "metadata": {},
   "outputs": [
    {
     "name": "stdout",
     "output_type": "stream",
     "text": [
      "Error rate SVM model:-  0.0\n"
     ]
    }
   ],
   "source": [
    "# SVM Classifier\n",
    "import mltools as ml\n",
    "from sklearn import svm, preprocessing\n",
    "# Normalizing data\n",
    "X = preprocessing.normalize(X, axis=0, norm = 'max')\n",
    "# Shuffling data\n",
    "X,Y = ml.shuffleData(X,Y)\n",
    "# Split data into training and validation\n",
    "Xtr,Xva,Ytr,Yva = ml.splitData(X,Y, 0.80)\n",
    "\n",
    "# Training SVM model\n",
    "clf = svm.SVC(decision_function_shape='ovr',kernel='linear')\n",
    "clf.fit(Xtr, Ytr)\n",
    "# Predicting values for validation data\n",
    "Yhat = clf.predict(Xva)\n",
    "# print list(Yhat)\n",
    "# print list(Yva)\n",
    "\n",
    "error = np.mean( Yhat != Yva )\n",
    "print \"Error rate SVM model:- \", error"
   ]
  },
  {
   "cell_type": "code",
   "execution_count": 436,
   "metadata": {},
   "outputs": [
    {
     "name": "stdout",
     "output_type": "stream",
     "text": [
      "Error rate KNN model:-  0.0\n"
     ]
    }
   ],
   "source": [
    "# KNN Classifier\n",
    "import mltools as ml\n",
    "from sklearn import neighbors, preprocessing\n",
    "X = preprocessing.normalize(X, axis=0, norm = 'max')\n",
    "# Shuffle data\n",
    "X,Y = ml.shuffleData(X,Y)\n",
    "# Split data into training and validation\n",
    "Xtr,Xva,Ytr,Yva = ml.splitData(X,Y, 0.80)\n",
    "\n",
    "# Training KNN model\n",
    "knn=neighbors.KNeighborsClassifier()\n",
    "knn.fit(Xtr, Ytr)\n",
    "# Predicting values for validation data\n",
    "Yhat = knn.predict(Xva)\n",
    "# print list(Yhat)\n",
    "# print list(Yva)\n",
    "\n",
    "error = np.mean( Yhat != Yva )\n",
    "print \"Error rate KNN model:- \", error"
   ]
  },
  {
   "cell_type": "code",
   "execution_count": 437,
   "metadata": {},
   "outputs": [
    {
     "name": "stdout",
     "output_type": "stream",
     "text": [
      "NFold Cross validation error for SVM model:-  0.0142857142857\n",
      "NFold Cross validation error for KNN model:-  0.0142857142857\n"
     ]
    }
   ],
   "source": [
    "import mltools as ml\n",
    "from sklearn import svm, preprocessing\n",
    "X = preprocessing.normalize(X, axis=0, norm = 'max')\n",
    "# Shuffle Data\n",
    "X,Y = ml.shuffleData(X,Y)\n",
    "\n",
    "# Nfold Cross Validation for SVM Model\n",
    "nFolds = 5\n",
    "error = [0]*nFolds\n",
    "for iFold in range(nFolds):\n",
    "    Xti,Xvi,Yti,Yvi = ml.crossValidate(X,Y,nFolds,iFold)\n",
    "    clf = svm.SVC(decision_function_shape='ovr',kernel='linear')\n",
    "    clf.fit(Xti, Yti)\n",
    "    Yhat = clf.predict(Xvi)\n",
    "    error[iFold] = np.mean( Yhat != Yvi )\n",
    "print \"NFold Cross validation error for SVM model:- \", np.mean(error)\n",
    "\n",
    "# Nfold Cross Validation for KNN Model\n",
    "for iFold in range(nFolds):\n",
    "    Xti,Xvi,Yti,Yvi = ml.crossValidate(X,Y,nFolds,iFold)\n",
    "    knn=neighbors.KNeighborsClassifier()\n",
    "    knn.fit(Xti, Yti)\n",
    "    Yhat = knn.predict(Xvi)\n",
    "    error[iFold] = np.mean( Yhat != Yvi )\n",
    "print \"NFold Cross validation error for KNN model:- \", np.mean(error)"
   ]
  },
  {
   "cell_type": "code",
   "execution_count": null,
   "metadata": {
    "collapsed": true
   },
   "outputs": [],
   "source": []
  },
  {
   "cell_type": "code",
   "execution_count": null,
   "metadata": {
    "collapsed": true
   },
   "outputs": [],
   "source": []
  }
 ],
 "metadata": {
  "kernelspec": {
   "display_name": "Python 2",
   "language": "python",
   "name": "python2"
  },
  "language_info": {
   "codemirror_mode": {
    "name": "ipython",
    "version": 2
   },
   "file_extension": ".py",
   "mimetype": "text/x-python",
   "name": "python",
   "nbconvert_exporter": "python",
   "pygments_lexer": "ipython2",
   "version": "2.7.13"
  }
 },
 "nbformat": 4,
 "nbformat_minor": 2
}
