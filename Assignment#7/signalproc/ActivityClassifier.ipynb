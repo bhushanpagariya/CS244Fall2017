{
 "cells": [
  {
   "cell_type": "code",
   "execution_count": 124,
   "metadata": {
    "collapsed": true
   },
   "outputs": [],
   "source": [
    "import numpy as np\n",
    "import math\n",
    "from sklearn import preprocessing\n",
    "\n",
    "# Calculating mean crossing rate\n",
    "def mean_crossing_rate(arr):\n",
    "    arr = arr - np.mean(arr)\n",
    "    count = 0\n",
    "    for i in range(1, len(arr)):\n",
    "        if arr[i-1]*arr[i] < 0:\n",
    "            count+=1\n",
    "    return count\n",
    "\n",
    "# Extracting mean, median, std, mean crossing rate and correlation between X,Y and Z\n",
    "def extract_features(data_xyz):\n",
    "    # Normalizing data before feature extraction\n",
    "    if data_xyz.shape[0]==0 or data_xyz.shape[1]!=3:\n",
    "        return None\n",
    "    features = list()\n",
    "    for col in range(data_xyz.shape[1]):\n",
    "        features.append(np.mean(data_xyz[:,col]))\n",
    "        features.append(np.median(data_xyz[:,col]))\n",
    "        features.append(np.std(data_xyz[:,col]))\n",
    "        features.append(mean_crossing_rate(data_xyz[:,col]))\n",
    "    features.append(np.correlate(data_xyz[:,0], data_xyz[:,1]))\n",
    "    features.append(np.correlate(data_xyz[:,0], data_xyz[:,2]))\n",
    "    features.append(np.correlate(data_xyz[:,1], data_xyz[:,2]))\n",
    "    return features\n"
   ]
  },
  {
   "cell_type": "code",
   "execution_count": 125,
   "metadata": {},
   "outputs": [
    {
     "name": "stdout",
     "output_type": "stream",
     "text": [
      "(14897, 25)\n",
      "(270, 15)\n",
      "270\n"
     ]
    },
    {
     "data": {
      "image/png": "[encoded data removed]",
      "text/plain": [
       "<matplotlib.figure.Figure at 0x1a10126d90>"
      ]
     },
     "metadata": {},
     "output_type": "display_data"
    },
    {
     "name": "stdout",
     "output_type": "stream",
     "text": [
      "[1, 1, 1, 1, 1, 1, 1, 1, 1, 1, 1, 1, 1, 1, 1, 1, 1, 1, 1, 1, 1, 1, 1, 1, 1, 1, 1, 1, 1, 1, 1, 1, 1, 1, 1, 1, 1, 1, 1, 1, 1, 1, 1, 1, 1, 2, 2, 2, 2, 2, 2, 2, 2, 2, 2, 2, 2, 2, 2, 2, 2, 2, 2, 2, 2, 2, 2, 2, 2, 2, 2, 2, 2, 2, 2, 2, 2, 2, 2, 2, 2, 2, 2, 2, 2, 2, 2, 2, 2, 2, 3, 3, 3, 3, 3, 3, 3, 3, 3, 3, 3, 3, 3, 3, 3, 3, 3, 3, 3, 3, 3, 3, 3, 3, 3, 3, 3, 3, 3, 3, 3, 3, 3, 3, 3, 3, 3, 3, 3, 3, 3, 3, 3, 3, 3, 4, 4, 4, 4, 4, 4, 4, 4, 4, 4, 4, 4, 4, 4, 4, 4, 4, 4, 4, 4, 4, 4, 4, 4, 4, 4, 4, 4, 4, 4, 4, 4, 4, 4, 4, 4, 4, 4, 4, 4, 4, 4, 4, 4, 4, 5, 5, 5, 5, 5, 5, 5, 5, 5, 5, 5, 5, 5, 5, 5, 5, 5, 5, 5, 5, 5, 5, 5, 5, 5, 5, 5, 5, 5, 5, 5, 5, 5, 5, 5, 5, 5, 5, 5, 5, 5, 5, 5, 5, 5, 6, 6, 6, 6, 6, 6, 6, 6, 6, 6, 6, 6, 6, 6, 6, 6, 6, 6, 6, 6, 6, 6, 6, 6, 6, 6, 6, 6, 6, 6, 6, 6, 6, 6, 6, 6, 6, 6, 6, 6, 6, 6, 6, 6, 6]\n"
     ]
    }
   ],
   "source": [
    "data = np.genfromtxt(\"/Users/bhushan/Documents/UCI_MS_NETSYS/CS244_Embedded/HomeworkSubmission/HW7/TrainingData.csv\",delimiter=\",\", skip_header=1, dtype=float)\n",
    "print data.shape\n",
    "window_size = 330\n",
    "\n",
    "numrows = int(float(data.shape[0])/window_size)\n",
    "\n",
    "X = np.empty((numrows*6, 15))\n",
    "Y = list()\n",
    "iteration = 0\n",
    "\n",
    "for cls in range(1, 7):\n",
    "    i = 0\n",
    "    while i < numrows*window_size:\n",
    "        X[iteration] = extract_features(data[i:i+window_size,4*(cls-1)+1:4*(cls-1)+4])\n",
    "        Y.append(cls)\n",
    "        i += window_size\n",
    "        iteration+=1\n",
    "print X.shape\n",
    "print len(Y)\n",
    "import matplotlib.pyplot as plt\n",
    "temp = 45\n",
    "plt.scatter(X[:temp,1], X[:temp,2], color='g')\n",
    "plt.scatter(X[temp:2*temp,1], X[temp:2*temp,2], color='r')\n",
    "plt.scatter(X[2*temp:3*temp,1], X[2*temp:3*temp,2], color='b')\n",
    "plt.scatter(X[3*temp:4*temp,1], X[3*temp:4*temp,2], color='black')\n",
    "plt.scatter(X[4*temp:5*temp,1], X[4*temp:5*temp,2], color='orange')\n",
    "plt.scatter(X[5*temp:6*temp,1], X[5*temp:6*temp,2], color='purple')\n",
    "plt.xlabel(\"Median for X's\")\n",
    "plt.ylabel(\"STD for X's\")\n",
    "plt.show()\n",
    "print Y"
   ]
  },
  {
   "cell_type": "code",
   "execution_count": 126,
   "metadata": {},
   "outputs": [
    {
     "name": "stdout",
     "output_type": "stream",
     "text": [
      "[2 5 5 3 2 5 6 1 6 4 5 5 1 1 1 4 4 2 4 1 2 3 2 1 6 1 1 3 3 4 4 6 2 3 5 6 2\n",
      " 4 3 2 5 2 4 4 4 4 4 6 5 1 5 4 6 1]\n",
      "[2 5 5 3 2 5 6 1 6 4 5 5 1 1 1 4 4 2 4 1 2 3 2 1 6 1 1 3 3 4 4 6 2 3 5 6 2\n",
      " 4 3 2 5 2 4 4 4 4 4 6 5 1 5 4 6 1]\n",
      "Error rate KNN model:-  0.0\n"
     ]
    }
   ],
   "source": [
    "# KNN Classifier\n",
    "import mltools as ml\n",
    "from sklearn import neighbors, preprocessing\n",
    "XS, params = ml.rescale(X)\n",
    "# XS = preprocessing.normalize(X, axis=0, norm = 'max')\n",
    "# Shuffle data\n",
    "XS,YS = ml.shuffleData(XS,Y)\n",
    "# Split data into training and validation\n",
    "Xtr,Xva,Ytr,Yva = ml.splitData(XS,YS, 0.80)\n",
    "\n",
    "# Training KNN model\n",
    "knn=neighbors.KNeighborsClassifier()\n",
    "knn.fit(Xtr, Ytr)\n",
    "# Predicting values for validation data\n",
    "Yhat = knn.predict(Xva)\n",
    "# print list(Yhat)\n",
    "# print list(Yva)\n",
    "print Yhat\n",
    "print Yva\n",
    "error = np.mean( Yhat != Yva )\n",
    "print \"Error rate KNN model:- \", error\n"
   ]
  },
  {
   "cell_type": "code",
   "execution_count": 140,
   "metadata": {},
   "outputs": [
    {
     "name": "stdout",
     "output_type": "stream",
     "text": [
      "91\n"
     ]
    }
   ],
   "source": [
    "data = np.genfromtxt(\"/Users/bhushan/Documents/UCI_MS_NETSYS/CS244_Embedded/HomeworkSubmission/HW7/standing.csv\",delimiter=\",\", skip_header=1, dtype=float)\n",
    "num_rows = data.shape[0]\n",
    "window_size = 330\n",
    "X = np.empty((int(math.ceil((float(num_rows)/window_size))), 15))\n",
    "\n",
    "iteration = 0\n",
    "i = 0\n",
    "while i < data.shape[0]:\n",
    "    X[iteration] = extract_features(data[i:i+window_size,3:6])\n",
    "    i += window_size\n",
    "    iteration+=1\n",
    "\n",
    "X1S, _ = ml.rescale(X, params)\n",
    "print knn.predict(X1S)"
   ]
  },
  {
   "cell_type": "code",
   "execution_count": null,
   "metadata": {
    "collapsed": true
   },
   "outputs": [],
   "source": []
  }
 ],
 "metadata": {
  "kernelspec": {
   "display_name": "Python 2",
   "language": "python",
   "name": "python2"
  },
  "language_info": {
   "codemirror_mode": {
    "name": "ipython",
    "version": 2
   },
   "file_extension": ".py",
   "mimetype": "text/x-python",
   "name": "python",
   "nbconvert_exporter": "python",
   "pygments_lexer": "ipython2",
   "version": "2.7.13"
  }
 },
 "nbformat": 4,
 "nbformat_minor": 2
}
